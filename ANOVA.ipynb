{
  "nbformat": 4,
  "nbformat_minor": 0,
  "metadata": {
    "colab": {
      "provenance": [],
      "toc_visible": true,
      "mount_file_id": "1Cdd7pny3nzbA1mg1hRWWEzLhLQk6e2y0",
      "authorship_tag": "ABX9TyOToREBaymL5O5PFk7jYKQ8",
      "include_colab_link": true
    },
    "kernelspec": {
      "name": "python3",
      "display_name": "Python 3"
    },
    "language_info": {
      "name": "python"
    }
  },
  "cells": [
    {
      "cell_type": "markdown",
      "metadata": {
        "id": "view-in-github",
        "colab_type": "text"
      },
      "source": [
        "<a href=\"https://colab.research.google.com/github/Anshika-Choudhary/Analysis-of-impact-of-Mulch-type-on-water-infiltration-capacity-/blob/main/ANOVA.ipynb\" target=\"_parent\"><img src=\"https://colab.research.google.com/assets/colab-badge.svg\" alt=\"Open In Colab\"/></a>"
      ]
    },
    {
      "cell_type": "code",
      "execution_count": null,
      "metadata": {
        "id": "BiFGICHhX1l_"
      },
      "outputs": [],
      "source": [
        "import pandas as pd\n",
        "from scipy import stats\n",
        "import statsmodels.api as sm\n",
        "from statsmodels.formula.api import ols"
      ]
    },
    {
      "cell_type": "code",
      "source": [
        "data = pd.read_excel('/content/Crop residue and soil water infiltration (1).xlsx')\n"
      ],
      "metadata": {
        "id": "sXE4cU2fYiP2"
      },
      "execution_count": 14,
      "outputs": []
    },
    {
      "cell_type": "code",
      "source": [
        "df = pd.read_excel('/content/Crop residue and soil water infiltration (1).xlsx')\n",
        "print (df)"
      ],
      "metadata": {
        "colab": {
          "base_uri": "https://localhost:8080/"
        },
        "id": "bQqIkQsEeB09",
        "outputId": "8d309ebb-5157-439d-ff1a-18cc7386969c"
      },
      "execution_count": 15,
      "outputs": [
        {
          "output_type": "stream",
          "name": "stdout",
          "text": [
            "    House Number  Plot No. Mulching  Nitrogen  initial     Grass      Okra  \\\n",
            "0              3         1       No         0        2  2.355558  0.596124   \n",
            "1              3         2       No         1        2  3.872389  0.468863   \n",
            "2              3         3       No         4        2  2.551670  0.515055   \n",
            "3              3         4     Mesh         0        2  3.008188  0.710693   \n",
            "4              3         5     Mesh         1        2  3.796052  0.447236   \n",
            "5              3         6     Mesh         4        2  4.582769  0.834172   \n",
            "6              3         7     Film         1        2  4.924184  0.777886   \n",
            "7              3         8     Film         4        2  4.919461  1.308525   \n",
            "8              3         9     Film         0        2  4.311618  1.485721   \n",
            "9              4        10       No         4        2  3.848104  0.360999   \n",
            "10             4        11       No         0        2  3.686368  0.413981   \n",
            "11             4        12       No         1        2  4.214033  0.401707   \n",
            "12             4        13     Mesh         1        2  5.031967  0.523048   \n",
            "13             4        14     Mesh         4        2  5.048179  0.893867   \n",
            "14             4        15     Mesh         0        2  4.139898  0.636927   \n",
            "15             4        16     Film         4        2  6.151844  1.062621   \n",
            "16             4        17     Film         0        2  4.760852  1.200762   \n",
            "17             4        18     Film         1        2  5.755857  1.293223   \n",
            "\n",
            "   Initial_WFC  After_Grass_WFC  After_Okra_WFC Soil moisture content (%)  \\\n",
            "0        34.54            73.31           22.30                  6.173539   \n",
            "1            ―            86.97           23.46                  6.388718   \n",
            "2        56.75            97.90           41.88                  6.897989   \n",
            "3            ―            57.26           22.39                  8.199315   \n",
            "4        58.37            51.80           43.84                  7.148082   \n",
            "5            ―           127.65           26.89                   7.31832   \n",
            "6        29.76           163.67           43.21                  8.576865   \n",
            "7            ―            68.94           21.63                 10.518989   \n",
            "8            ―           143.37           39.93                 10.576219   \n",
            "9        47.39           120.89           52.61                  5.818623   \n",
            "10           ―           137.30           50.31                  7.095381   \n",
            "11       43.16           196.26           35.63                  6.442549   \n",
            "12           ―           105.62           39.04                  7.592287   \n",
            "13       25.46           137.43           49.29                  7.404941   \n",
            "14           ―           117.84           48.84                  7.811611   \n",
            "15       29.52           108.22           59.79                  8.944963   \n",
            "16           ―            95.08           46.32                  9.859447   \n",
            "17           ―            86.94           41.38                         ―   \n",
            "\n",
            "    Bulk density  \n",
            "0       1.284155  \n",
            "1       1.340210  \n",
            "2       1.225025  \n",
            "3       1.304355  \n",
            "4       1.354015  \n",
            "5       1.326245  \n",
            "6       1.295435  \n",
            "7       1.243225  \n",
            "8       1.303215  \n",
            "9       1.245680  \n",
            "10      1.291490  \n",
            "11      1.275985  \n",
            "12      1.258140  \n",
            "13      1.323155  \n",
            "14      1.308435  \n",
            "15      1.346620  \n",
            "16      1.235965  \n",
            "17      1.414085  \n"
          ]
        }
      ]
    },
    {
      "cell_type": "code",
      "source": [
        "model_1 = ols('After_Grass_WFC ~ C(Mulching) + C(Nitrogen) + C(Mulching):C(Nitrogen)', data=df).fit()"
      ],
      "metadata": {
        "id": "bMHsNu-7cMGt"
      },
      "execution_count": 16,
      "outputs": []
    },
    {
      "cell_type": "code",
      "source": [
        "# Perform ANOVA\n",
        "anova_table = sm.stats.anova_lm(model_1, typ=2)\n",
        "print(anova_table)"
      ],
      "metadata": {
        "colab": {
          "base_uri": "https://localhost:8080/"
        },
        "id": "bc6spLcVhZiF",
        "outputId": "02488ca1-cdaa-4106-fb78-258f9ebb474b"
      },
      "execution_count": 17,
      "outputs": [
        {
          "output_type": "stream",
          "name": "stdout",
          "text": [
            "                               sum_sq   df         F    PR(>F)\n",
            "C(Mulching)               1116.360744  2.0  0.304535  0.744775\n",
            "C(Nitrogen)                376.425544  2.0  0.102686  0.903452\n",
            "C(Mulching):C(Nitrogen)   6088.904622  4.0  0.830505  0.538324\n",
            "Residual                 16496.038450  9.0       NaN       NaN\n"
          ]
        }
      ]
    },
    {
      "cell_type": "code",
      "source": [
        "model_1 = ols('After_Okra_WFC ~ C(Mulching) + C(Nitrogen) + C(Mulching):C(Nitrogen)', data=df).fit()\n"
      ],
      "metadata": {
        "id": "w5a3vT_ciZk7"
      },
      "execution_count": 18,
      "outputs": []
    },
    {
      "cell_type": "code",
      "source": [
        "# Perform ANOVA\n",
        "anova_table = sm.stats.anova_lm(model_1, typ=2)\n",
        "print(anova_table)"
      ],
      "metadata": {
        "colab": {
          "base_uri": "https://localhost:8080/"
        },
        "outputId": "fae58f7c-2b79-4bda-ef34-6c58c4fab9d2",
        "id": "oYapsM_OiiLS"
      },
      "execution_count": 19,
      "outputs": [
        {
          "output_type": "stream",
          "name": "stdout",
          "text": [
            "                              sum_sq   df         F    PR(>F)\n",
            "C(Mulching)                65.507544  2.0  0.156277  0.857593\n",
            "C(Nitrogen)                63.791211  2.0  0.152183  0.860995\n",
            "C(Mulching):C(Nitrogen)   295.530989  4.0  0.352515  0.836087\n",
            "Residual                 1886.285500  9.0       NaN       NaN\n"
          ]
        }
      ]
    }
  ]
}